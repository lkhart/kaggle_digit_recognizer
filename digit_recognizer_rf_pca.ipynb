{
  "nbformat": 4,
  "nbformat_minor": 0,
  "metadata": {
    "colab": {
      "name": "digit_recognizer_rf_pca.ipynb",
      "provenance": [],
      "collapsed_sections": [],
      "toc_visible": true,
      "authorship_tag": "ABX9TyN4bHxEeSIY7w0iuMLK9f0b",
      "include_colab_link": true
    },
    "kernelspec": {
      "name": "python3",
      "display_name": "Python 3"
    },
    "language_info": {
      "name": "python"
    }
  },
  "cells": [
    {
      "cell_type": "markdown",
      "metadata": {
        "id": "view-in-github",
        "colab_type": "text"
      },
      "source": [
        "<a href=\"https://colab.research.google.com/github/lkhart/kaggle_digit_recognizer/blob/main/digit_recognizer_rf_pca.ipynb\" target=\"_parent\"><img src=\"https://colab.research.google.com/assets/colab-badge.svg\" alt=\"Open In Colab\"/></a>"
      ]
    },
    {
      "cell_type": "markdown",
      "source": [
        "# **Digit Recognizer**\n",
        "\n",
        "#### [Kaggle Competition Entry](https://www.kaggle.com/c/digit-recognizer/overview)/Class Assignment \n",
        "#### Laura Hart - MSDS 422 - Winter 2022\n",
        "\n",
        "The objective of this exercise is to apply classification techniques to correctly identify digits (0-9) from a dataset of tens of thousands of handwritten images. Each image is 28x28 pixels in size, and each pixel is represented in the dataset as one column (pixel0, pixel1, ..., pixel784). The value within that column represents the darkness of that pixel, with values ranging from 0 (lightest) to 255 (darkest). One row of pixel values represents one 28x28pixel image of a handwritten digit.\n",
        "\n",
        "## Management/Research Question: Practical Application\n",
        "This classification problem can be applied to numerous real-world problems, such as automatic mail sorting or converting handwritten files to a digital format. A successful classifier model must be able to correctly label digits written in different sizes and styles; the appearance of a digit is not expected to be consistent, but a successful model will identify the patterns that distinguish each label from the others.\n",
        "\n",
        "\n",
        "\n"
      ],
      "metadata": {
        "id": "UhbaiiCvG1Gm"
      }
    },
    {
      "cell_type": "markdown",
      "source": [
        "## Setup"
      ],
      "metadata": {
        "id": "1DAFyjTdGyah"
      }
    },
    {
      "cell_type": "code",
      "execution_count": 1,
      "metadata": {
        "colab": {
          "resources": {
            "http://localhost:8080/nbextensions/google.colab/files.js": {
              "data": "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",
              "ok": true,
              "headers": [
                [
                  "content-type",
                  "application/javascript"
                ]
              ],
              "status": 200,
              "status_text": ""
            }
          },
          "base_uri": "https://localhost:8080/",
          "height": 107
        },
        "id": "oPxctUocENgM",
        "outputId": "6970124b-449d-4b20-abb3-b294d537a04b"
      },
      "outputs": [
        {
          "output_type": "display_data",
          "data": {
            "text/html": [
              "\n",
              "     <input type=\"file\" id=\"files-d7b7cecb-c946-49a8-aef0-4ab537d8beaa\" name=\"files[]\" multiple disabled\n",
              "        style=\"border:none\" />\n",
              "     <output id=\"result-d7b7cecb-c946-49a8-aef0-4ab537d8beaa\">\n",
              "      Upload widget is only available when the cell has been executed in the\n",
              "      current browser session. Please rerun this cell to enable.\n",
              "      </output>\n",
              "      <script src=\"/nbextensions/google.colab/files.js\"></script> "
            ],
            "text/plain": [
              "<IPython.core.display.HTML object>"
            ]
          },
          "metadata": {}
        },
        {
          "output_type": "stream",
          "name": "stdout",
          "text": [
            "Saving test.csv to test.csv\n",
            "Saving train.csv to train.csv\n"
          ]
        }
      ],
      "source": [
        "from google.colab import files\n",
        "uploaded = files.upload()"
      ]
    },
    {
      "cell_type": "code",
      "source": [
        "import pandas as pd\n",
        "import numpy as np\n",
        "import matplotlib.pyplot as plt\n",
        "import seaborn as sns\n",
        "from datetime import datetime \n",
        "from sklearn.preprocessing import StandardScaler\n",
        "from sklearn.model_selection import train_test_split\n",
        "from sklearn.metrics import accuracy_score\n",
        "from sklearn.ensemble import RandomForestClassifier\n",
        "from sklearn.cluster import KMeans, MiniBatchKMeans\n",
        "from sklearn.decomposition import PCA"
      ],
      "metadata": {
        "id": "sDssF8d8K4z9"
      },
      "execution_count": 2,
      "outputs": []
    },
    {
      "cell_type": "code",
      "source": [
        "train_df = pd.read_csv('train.csv')\n",
        "train_df.head()"
      ],
      "metadata": {
        "colab": {
          "base_uri": "https://localhost:8080/",
          "height": 300
        },
        "id": "8zvxhZlhNNpj",
        "outputId": "12ce7856-4338-44e5-aec5-b0dc6d6df50c"
      },
      "execution_count": 3,
      "outputs": [
        {
          "output_type": "execute_result",
          "data": {
            "text/html": [
              "\n",
              "  <div id=\"df-9394e50c-9a85-4bf8-bd15-12bdb4535a34\">\n",
              "    <div class=\"colab-df-container\">\n",
              "      <div>\n",
              "<style scoped>\n",
              "    .dataframe tbody tr th:only-of-type {\n",
              "        vertical-align: middle;\n",
              "    }\n",
              "\n",
              "    .dataframe tbody tr th {\n",
              "        vertical-align: top;\n",
              "    }\n",
              "\n",
              "    .dataframe thead th {\n",
              "        text-align: right;\n",
              "    }\n",
              "</style>\n",
              "<table border=\"1\" class=\"dataframe\">\n",
              "  <thead>\n",
              "    <tr style=\"text-align: right;\">\n",
              "      <th></th>\n",
              "      <th>label</th>\n",
              "      <th>pixel0</th>\n",
              "      <th>pixel1</th>\n",
              "      <th>pixel2</th>\n",
              "      <th>pixel3</th>\n",
              "      <th>pixel4</th>\n",
              "      <th>pixel5</th>\n",
              "      <th>pixel6</th>\n",
              "      <th>pixel7</th>\n",
              "      <th>pixel8</th>\n",
              "      <th>pixel9</th>\n",
              "      <th>pixel10</th>\n",
              "      <th>pixel11</th>\n",
              "      <th>pixel12</th>\n",
              "      <th>pixel13</th>\n",
              "      <th>pixel14</th>\n",
              "      <th>pixel15</th>\n",
              "      <th>pixel16</th>\n",
              "      <th>pixel17</th>\n",
              "      <th>pixel18</th>\n",
              "      <th>pixel19</th>\n",
              "      <th>pixel20</th>\n",
              "      <th>pixel21</th>\n",
              "      <th>pixel22</th>\n",
              "      <th>pixel23</th>\n",
              "      <th>pixel24</th>\n",
              "      <th>pixel25</th>\n",
              "      <th>pixel26</th>\n",
              "      <th>pixel27</th>\n",
              "      <th>pixel28</th>\n",
              "      <th>pixel29</th>\n",
              "      <th>pixel30</th>\n",
              "      <th>pixel31</th>\n",
              "      <th>pixel32</th>\n",
              "      <th>pixel33</th>\n",
              "      <th>pixel34</th>\n",
              "      <th>pixel35</th>\n",
              "      <th>pixel36</th>\n",
              "      <th>pixel37</th>\n",
              "      <th>pixel38</th>\n",
              "      <th>...</th>\n",
              "      <th>pixel744</th>\n",
              "      <th>pixel745</th>\n",
              "      <th>pixel746</th>\n",
              "      <th>pixel747</th>\n",
              "      <th>pixel748</th>\n",
              "      <th>pixel749</th>\n",
              "      <th>pixel750</th>\n",
              "      <th>pixel751</th>\n",
              "      <th>pixel752</th>\n",
              "      <th>pixel753</th>\n",
              "      <th>pixel754</th>\n",
              "      <th>pixel755</th>\n",
              "      <th>pixel756</th>\n",
              "      <th>pixel757</th>\n",
              "      <th>pixel758</th>\n",
              "      <th>pixel759</th>\n",
              "      <th>pixel760</th>\n",
              "      <th>pixel761</th>\n",
              "      <th>pixel762</th>\n",
              "      <th>pixel763</th>\n",
              "      <th>pixel764</th>\n",
              "      <th>pixel765</th>\n",
              "      <th>pixel766</th>\n",
              "      <th>pixel767</th>\n",
              "      <th>pixel768</th>\n",
              "      <th>pixel769</th>\n",
              "      <th>pixel770</th>\n",
              "      <th>pixel771</th>\n",
              "      <th>pixel772</th>\n",
              "      <th>pixel773</th>\n",
              "      <th>pixel774</th>\n",
              "      <th>pixel775</th>\n",
              "      <th>pixel776</th>\n",
              "      <th>pixel777</th>\n",
              "      <th>pixel778</th>\n",
              "      <th>pixel779</th>\n",
              "      <th>pixel780</th>\n",
              "      <th>pixel781</th>\n",
              "      <th>pixel782</th>\n",
              "      <th>pixel783</th>\n",
              "    </tr>\n",
              "  </thead>\n",
              "  <tbody>\n",
              "    <tr>\n",
              "      <th>0</th>\n",
              "      <td>1</td>\n",
              "      <td>0</td>\n",
              "      <td>0</td>\n",
              "      <td>0</td>\n",
              "      <td>0</td>\n",
              "      <td>0</td>\n",
              "      <td>0</td>\n",
              "      <td>0</td>\n",
              "      <td>0</td>\n",
              "      <td>0</td>\n",
              "      <td>0</td>\n",
              "      <td>0</td>\n",
              "      <td>0</td>\n",
              "      <td>0</td>\n",
              "      <td>0</td>\n",
              "      <td>0</td>\n",
              "      <td>0</td>\n",
              "      <td>0</td>\n",
              "      <td>0</td>\n",
              "      <td>0</td>\n",
              "      <td>0</td>\n",
              "      <td>0</td>\n",
              "      <td>0</td>\n",
              "      <td>0</td>\n",
              "      <td>0</td>\n",
              "      <td>0</td>\n",
              "      <td>0</td>\n",
              "      <td>0</td>\n",
              "      <td>0</td>\n",
              "      <td>0</td>\n",
              "      <td>0</td>\n",
              "      <td>0</td>\n",
              "      <td>0</td>\n",
              "      <td>0</td>\n",
              "      <td>0</td>\n",
              "      <td>0</td>\n",
              "      <td>0</td>\n",
              "      <td>0</td>\n",
              "      <td>0</td>\n",
              "      <td>0</td>\n",
              "      <td>...</td>\n",
              "      <td>0</td>\n",
              "      <td>0</td>\n",
              "      <td>0</td>\n",
              "      <td>0</td>\n",
              "      <td>0</td>\n",
              "      <td>0</td>\n",
              "      <td>0</td>\n",
              "      <td>0</td>\n",
              "      <td>0</td>\n",
              "      <td>0</td>\n",
              "      <td>0</td>\n",
              "      <td>0</td>\n",
              "      <td>0</td>\n",
              "      <td>0</td>\n",
              "      <td>0</td>\n",
              "      <td>0</td>\n",
              "      <td>0</td>\n",
              "      <td>0</td>\n",
              "      <td>0</td>\n",
              "      <td>0</td>\n",
              "      <td>0</td>\n",
              "      <td>0</td>\n",
              "      <td>0</td>\n",
              "      <td>0</td>\n",
              "      <td>0</td>\n",
              "      <td>0</td>\n",
              "      <td>0</td>\n",
              "      <td>0</td>\n",
              "      <td>0</td>\n",
              "      <td>0</td>\n",
              "      <td>0</td>\n",
              "      <td>0</td>\n",
              "      <td>0</td>\n",
              "      <td>0</td>\n",
              "      <td>0</td>\n",
              "      <td>0</td>\n",
              "      <td>0</td>\n",
              "      <td>0</td>\n",
              "      <td>0</td>\n",
              "      <td>0</td>\n",
              "    </tr>\n",
              "    <tr>\n",
              "      <th>1</th>\n",
              "      <td>0</td>\n",
              "      <td>0</td>\n",
              "      <td>0</td>\n",
              "      <td>0</td>\n",
              "      <td>0</td>\n",
              "      <td>0</td>\n",
              "      <td>0</td>\n",
              "      <td>0</td>\n",
              "      <td>0</td>\n",
              "      <td>0</td>\n",
              "      <td>0</td>\n",
              "      <td>0</td>\n",
              "      <td>0</td>\n",
              "      <td>0</td>\n",
              "      <td>0</td>\n",
              "      <td>0</td>\n",
              "      <td>0</td>\n",
              "      <td>0</td>\n",
              "      <td>0</td>\n",
              "      <td>0</td>\n",
              "      <td>0</td>\n",
              "      <td>0</td>\n",
              "      <td>0</td>\n",
              "      <td>0</td>\n",
              "      <td>0</td>\n",
              "      <td>0</td>\n",
              "      <td>0</td>\n",
              "      <td>0</td>\n",
              "      <td>0</td>\n",
              "      <td>0</td>\n",
              "      <td>0</td>\n",
              "      <td>0</td>\n",
              "      <td>0</td>\n",
              "      <td>0</td>\n",
              "      <td>0</td>\n",
              "      <td>0</td>\n",
              "      <td>0</td>\n",
              "      <td>0</td>\n",
              "      <td>0</td>\n",
              "      <td>0</td>\n",
              "      <td>...</td>\n",
              "      <td>0</td>\n",
              "      <td>0</td>\n",
              "      <td>0</td>\n",
              "      <td>0</td>\n",
              "      <td>0</td>\n",
              "      <td>0</td>\n",
              "      <td>0</td>\n",
              "      <td>0</td>\n",
              "      <td>0</td>\n",
              "      <td>0</td>\n",
              "      <td>0</td>\n",
              "      <td>0</td>\n",
              "      <td>0</td>\n",
              "      <td>0</td>\n",
              "      <td>0</td>\n",
              "      <td>0</td>\n",
              "      <td>0</td>\n",
              "      <td>0</td>\n",
              "      <td>0</td>\n",
              "      <td>0</td>\n",
              "      <td>0</td>\n",
              "      <td>0</td>\n",
              "      <td>0</td>\n",
              "      <td>0</td>\n",
              "      <td>0</td>\n",
              "      <td>0</td>\n",
              "      <td>0</td>\n",
              "      <td>0</td>\n",
              "      <td>0</td>\n",
              "      <td>0</td>\n",
              "      <td>0</td>\n",
              "      <td>0</td>\n",
              "      <td>0</td>\n",
              "      <td>0</td>\n",
              "      <td>0</td>\n",
              "      <td>0</td>\n",
              "      <td>0</td>\n",
              "      <td>0</td>\n",
              "      <td>0</td>\n",
              "      <td>0</td>\n",
              "    </tr>\n",
              "    <tr>\n",
              "      <th>2</th>\n",
              "      <td>1</td>\n",
              "      <td>0</td>\n",
              "      <td>0</td>\n",
              "      <td>0</td>\n",
              "      <td>0</td>\n",
              "      <td>0</td>\n",
              "      <td>0</td>\n",
              "      <td>0</td>\n",
              "      <td>0</td>\n",
              "      <td>0</td>\n",
              "      <td>0</td>\n",
              "      <td>0</td>\n",
              "      <td>0</td>\n",
              "      <td>0</td>\n",
              "      <td>0</td>\n",
              "      <td>0</td>\n",
              "      <td>0</td>\n",
              "      <td>0</td>\n",
              "      <td>0</td>\n",
              "      <td>0</td>\n",
              "      <td>0</td>\n",
              "      <td>0</td>\n",
              "      <td>0</td>\n",
              "      <td>0</td>\n",
              "      <td>0</td>\n",
              "      <td>0</td>\n",
              "      <td>0</td>\n",
              "      <td>0</td>\n",
              "      <td>0</td>\n",
              "      <td>0</td>\n",
              "      <td>0</td>\n",
              "      <td>0</td>\n",
              "      <td>0</td>\n",
              "      <td>0</td>\n",
              "      <td>0</td>\n",
              "      <td>0</td>\n",
              "      <td>0</td>\n",
              "      <td>0</td>\n",
              "      <td>0</td>\n",
              "      <td>0</td>\n",
              "      <td>...</td>\n",
              "      <td>0</td>\n",
              "      <td>0</td>\n",
              "      <td>0</td>\n",
              "      <td>0</td>\n",
              "      <td>0</td>\n",
              "      <td>0</td>\n",
              "      <td>0</td>\n",
              "      <td>0</td>\n",
              "      <td>0</td>\n",
              "      <td>0</td>\n",
              "      <td>0</td>\n",
              "      <td>0</td>\n",
              "      <td>0</td>\n",
              "      <td>0</td>\n",
              "      <td>0</td>\n",
              "      <td>0</td>\n",
              "      <td>0</td>\n",
              "      <td>0</td>\n",
              "      <td>0</td>\n",
              "      <td>0</td>\n",
              "      <td>0</td>\n",
              "      <td>0</td>\n",
              "      <td>0</td>\n",
              "      <td>0</td>\n",
              "      <td>0</td>\n",
              "      <td>0</td>\n",
              "      <td>0</td>\n",
              "      <td>0</td>\n",
              "      <td>0</td>\n",
              "      <td>0</td>\n",
              "      <td>0</td>\n",
              "      <td>0</td>\n",
              "      <td>0</td>\n",
              "      <td>0</td>\n",
              "      <td>0</td>\n",
              "      <td>0</td>\n",
              "      <td>0</td>\n",
              "      <td>0</td>\n",
              "      <td>0</td>\n",
              "      <td>0</td>\n",
              "    </tr>\n",
              "    <tr>\n",
              "      <th>3</th>\n",
              "      <td>4</td>\n",
              "      <td>0</td>\n",
              "      <td>0</td>\n",
              "      <td>0</td>\n",
              "      <td>0</td>\n",
              "      <td>0</td>\n",
              "      <td>0</td>\n",
              "      <td>0</td>\n",
              "      <td>0</td>\n",
              "      <td>0</td>\n",
              "      <td>0</td>\n",
              "      <td>0</td>\n",
              "      <td>0</td>\n",
              "      <td>0</td>\n",
              "      <td>0</td>\n",
              "      <td>0</td>\n",
              "      <td>0</td>\n",
              "      <td>0</td>\n",
              "      <td>0</td>\n",
              "      <td>0</td>\n",
              "      <td>0</td>\n",
              "      <td>0</td>\n",
              "      <td>0</td>\n",
              "      <td>0</td>\n",
              "      <td>0</td>\n",
              "      <td>0</td>\n",
              "      <td>0</td>\n",
              "      <td>0</td>\n",
              "      <td>0</td>\n",
              "      <td>0</td>\n",
              "      <td>0</td>\n",
              "      <td>0</td>\n",
              "      <td>0</td>\n",
              "      <td>0</td>\n",
              "      <td>0</td>\n",
              "      <td>0</td>\n",
              "      <td>0</td>\n",
              "      <td>0</td>\n",
              "      <td>0</td>\n",
              "      <td>0</td>\n",
              "      <td>...</td>\n",
              "      <td>0</td>\n",
              "      <td>0</td>\n",
              "      <td>0</td>\n",
              "      <td>0</td>\n",
              "      <td>0</td>\n",
              "      <td>0</td>\n",
              "      <td>0</td>\n",
              "      <td>0</td>\n",
              "      <td>0</td>\n",
              "      <td>0</td>\n",
              "      <td>0</td>\n",
              "      <td>0</td>\n",
              "      <td>0</td>\n",
              "      <td>0</td>\n",
              "      <td>0</td>\n",
              "      <td>0</td>\n",
              "      <td>0</td>\n",
              "      <td>0</td>\n",
              "      <td>0</td>\n",
              "      <td>0</td>\n",
              "      <td>0</td>\n",
              "      <td>0</td>\n",
              "      <td>0</td>\n",
              "      <td>0</td>\n",
              "      <td>0</td>\n",
              "      <td>0</td>\n",
              "      <td>0</td>\n",
              "      <td>0</td>\n",
              "      <td>0</td>\n",
              "      <td>0</td>\n",
              "      <td>0</td>\n",
              "      <td>0</td>\n",
              "      <td>0</td>\n",
              "      <td>0</td>\n",
              "      <td>0</td>\n",
              "      <td>0</td>\n",
              "      <td>0</td>\n",
              "      <td>0</td>\n",
              "      <td>0</td>\n",
              "      <td>0</td>\n",
              "    </tr>\n",
              "    <tr>\n",
              "      <th>4</th>\n",
              "      <td>0</td>\n",
              "      <td>0</td>\n",
              "      <td>0</td>\n",
              "      <td>0</td>\n",
              "      <td>0</td>\n",
              "      <td>0</td>\n",
              "      <td>0</td>\n",
              "      <td>0</td>\n",
              "      <td>0</td>\n",
              "      <td>0</td>\n",
              "      <td>0</td>\n",
              "      <td>0</td>\n",
              "      <td>0</td>\n",
              "      <td>0</td>\n",
              "      <td>0</td>\n",
              "      <td>0</td>\n",
              "      <td>0</td>\n",
              "      <td>0</td>\n",
              "      <td>0</td>\n",
              "      <td>0</td>\n",
              "      <td>0</td>\n",
              "      <td>0</td>\n",
              "      <td>0</td>\n",
              "      <td>0</td>\n",
              "      <td>0</td>\n",
              "      <td>0</td>\n",
              "      <td>0</td>\n",
              "      <td>0</td>\n",
              "      <td>0</td>\n",
              "      <td>0</td>\n",
              "      <td>0</td>\n",
              "      <td>0</td>\n",
              "      <td>0</td>\n",
              "      <td>0</td>\n",
              "      <td>0</td>\n",
              "      <td>0</td>\n",
              "      <td>0</td>\n",
              "      <td>0</td>\n",
              "      <td>0</td>\n",
              "      <td>0</td>\n",
              "      <td>...</td>\n",
              "      <td>0</td>\n",
              "      <td>0</td>\n",
              "      <td>0</td>\n",
              "      <td>0</td>\n",
              "      <td>0</td>\n",
              "      <td>0</td>\n",
              "      <td>0</td>\n",
              "      <td>0</td>\n",
              "      <td>0</td>\n",
              "      <td>0</td>\n",
              "      <td>0</td>\n",
              "      <td>0</td>\n",
              "      <td>0</td>\n",
              "      <td>0</td>\n",
              "      <td>0</td>\n",
              "      <td>0</td>\n",
              "      <td>0</td>\n",
              "      <td>0</td>\n",
              "      <td>0</td>\n",
              "      <td>0</td>\n",
              "      <td>0</td>\n",
              "      <td>0</td>\n",
              "      <td>0</td>\n",
              "      <td>0</td>\n",
              "      <td>0</td>\n",
              "      <td>0</td>\n",
              "      <td>0</td>\n",
              "      <td>0</td>\n",
              "      <td>0</td>\n",
              "      <td>0</td>\n",
              "      <td>0</td>\n",
              "      <td>0</td>\n",
              "      <td>0</td>\n",
              "      <td>0</td>\n",
              "      <td>0</td>\n",
              "      <td>0</td>\n",
              "      <td>0</td>\n",
              "      <td>0</td>\n",
              "      <td>0</td>\n",
              "      <td>0</td>\n",
              "    </tr>\n",
              "  </tbody>\n",
              "</table>\n",
              "<p>5 rows × 785 columns</p>\n",
              "</div>\n",
              "      <button class=\"colab-df-convert\" onclick=\"convertToInteractive('df-9394e50c-9a85-4bf8-bd15-12bdb4535a34')\"\n",
              "              title=\"Convert this dataframe to an interactive table.\"\n",
              "              style=\"display:none;\">\n",
              "        \n",
              "  <svg xmlns=\"http://www.w3.org/2000/svg\" height=\"24px\"viewBox=\"0 0 24 24\"\n",
              "       width=\"24px\">\n",
              "    <path d=\"M0 0h24v24H0V0z\" fill=\"none\"/>\n",
              "    <path d=\"M18.56 5.44l.94 2.06.94-2.06 2.06-.94-2.06-.94-.94-2.06-.94 2.06-2.06.94zm-11 1L8.5 8.5l.94-2.06 2.06-.94-2.06-.94L8.5 2.5l-.94 2.06-2.06.94zm10 10l.94 2.06.94-2.06 2.06-.94-2.06-.94-.94-2.06-.94 2.06-2.06.94z\"/><path d=\"M17.41 7.96l-1.37-1.37c-.4-.4-.92-.59-1.43-.59-.52 0-1.04.2-1.43.59L10.3 9.45l-7.72 7.72c-.78.78-.78 2.05 0 2.83L4 21.41c.39.39.9.59 1.41.59.51 0 1.02-.2 1.41-.59l7.78-7.78 2.81-2.81c.8-.78.8-2.07 0-2.86zM5.41 20L4 18.59l7.72-7.72 1.47 1.35L5.41 20z\"/>\n",
              "  </svg>\n",
              "      </button>\n",
              "      \n",
              "  <style>\n",
              "    .colab-df-container {\n",
              "      display:flex;\n",
              "      flex-wrap:wrap;\n",
              "      gap: 12px;\n",
              "    }\n",
              "\n",
              "    .colab-df-convert {\n",
              "      background-color: #E8F0FE;\n",
              "      border: none;\n",
              "      border-radius: 50%;\n",
              "      cursor: pointer;\n",
              "      display: none;\n",
              "      fill: #1967D2;\n",
              "      height: 32px;\n",
              "      padding: 0 0 0 0;\n",
              "      width: 32px;\n",
              "    }\n",
              "\n",
              "    .colab-df-convert:hover {\n",
              "      background-color: #E2EBFA;\n",
              "      box-shadow: 0px 1px 2px rgba(60, 64, 67, 0.3), 0px 1px 3px 1px rgba(60, 64, 67, 0.15);\n",
              "      fill: #174EA6;\n",
              "    }\n",
              "\n",
              "    [theme=dark] .colab-df-convert {\n",
              "      background-color: #3B4455;\n",
              "      fill: #D2E3FC;\n",
              "    }\n",
              "\n",
              "    [theme=dark] .colab-df-convert:hover {\n",
              "      background-color: #434B5C;\n",
              "      box-shadow: 0px 1px 3px 1px rgba(0, 0, 0, 0.15);\n",
              "      filter: drop-shadow(0px 1px 2px rgba(0, 0, 0, 0.3));\n",
              "      fill: #FFFFFF;\n",
              "    }\n",
              "  </style>\n",
              "\n",
              "      <script>\n",
              "        const buttonEl =\n",
              "          document.querySelector('#df-9394e50c-9a85-4bf8-bd15-12bdb4535a34 button.colab-df-convert');\n",
              "        buttonEl.style.display =\n",
              "          google.colab.kernel.accessAllowed ? 'block' : 'none';\n",
              "\n",
              "        async function convertToInteractive(key) {\n",
              "          const element = document.querySelector('#df-9394e50c-9a85-4bf8-bd15-12bdb4535a34');\n",
              "          const dataTable =\n",
              "            await google.colab.kernel.invokeFunction('convertToInteractive',\n",
              "                                                     [key], {});\n",
              "          if (!dataTable) return;\n",
              "\n",
              "          const docLinkHtml = 'Like what you see? Visit the ' +\n",
              "            '<a target=\"_blank\" href=https://colab.research.google.com/notebooks/data_table.ipynb>data table notebook</a>'\n",
              "            + ' to learn more about interactive tables.';\n",
              "          element.innerHTML = '';\n",
              "          dataTable['output_type'] = 'display_data';\n",
              "          await google.colab.output.renderOutput(dataTable, element);\n",
              "          const docLink = document.createElement('div');\n",
              "          docLink.innerHTML = docLinkHtml;\n",
              "          element.appendChild(docLink);\n",
              "        }\n",
              "      </script>\n",
              "    </div>\n",
              "  </div>\n",
              "  "
            ],
            "text/plain": [
              "   label  pixel0  pixel1  pixel2  ...  pixel780  pixel781  pixel782  pixel783\n",
              "0      1       0       0       0  ...         0         0         0         0\n",
              "1      0       0       0       0  ...         0         0         0         0\n",
              "2      1       0       0       0  ...         0         0         0         0\n",
              "3      4       0       0       0  ...         0         0         0         0\n",
              "4      0       0       0       0  ...         0         0         0         0\n",
              "\n",
              "[5 rows x 785 columns]"
            ]
          },
          "metadata": {},
          "execution_count": 3
        }
      ]
    },
    {
      "cell_type": "code",
      "source": [
        "# train_df details (number of rows used later)\n",
        "train_df.info()"
      ],
      "metadata": {
        "colab": {
          "base_uri": "https://localhost:8080/"
        },
        "id": "0e-_zlPiWcGl",
        "outputId": "3c817a6b-0ae8-487a-ed63-09df55765941"
      },
      "execution_count": 4,
      "outputs": [
        {
          "output_type": "stream",
          "name": "stdout",
          "text": [
            "<class 'pandas.core.frame.DataFrame'>\n",
            "RangeIndex: 42000 entries, 0 to 41999\n",
            "Columns: 785 entries, label to pixel783\n",
            "dtypes: int64(785)\n",
            "memory usage: 251.5 MB\n"
          ]
        }
      ]
    },
    {
      "cell_type": "code",
      "source": [
        "test_df = pd.read_csv('test.csv')\n",
        "test_df.head()"
      ],
      "metadata": {
        "colab": {
          "base_uri": "https://localhost:8080/",
          "height": 300
        },
        "id": "DR4VkIDnNXW4",
        "outputId": "7245af28-9b4b-4e78-ad8e-1f930fdeabb7"
      },
      "execution_count": 5,
      "outputs": [
        {
          "output_type": "execute_result",
          "data": {
            "text/html": [
              "\n",
              "  <div id=\"df-4a803862-1b21-479e-adc9-b05e96175f2c\">\n",
              "    <div class=\"colab-df-container\">\n",
              "      <div>\n",
              "<style scoped>\n",
              "    .dataframe tbody tr th:only-of-type {\n",
              "        vertical-align: middle;\n",
              "    }\n",
              "\n",
              "    .dataframe tbody tr th {\n",
              "        vertical-align: top;\n",
              "    }\n",
              "\n",
              "    .dataframe thead th {\n",
              "        text-align: right;\n",
              "    }\n",
              "</style>\n",
              "<table border=\"1\" class=\"dataframe\">\n",
              "  <thead>\n",
              "    <tr style=\"text-align: right;\">\n",
              "      <th></th>\n",
              "      <th>pixel0</th>\n",
              "      <th>pixel1</th>\n",
              "      <th>pixel2</th>\n",
              "      <th>pixel3</th>\n",
              "      <th>pixel4</th>\n",
              "      <th>pixel5</th>\n",
              "      <th>pixel6</th>\n",
              "      <th>pixel7</th>\n",
              "      <th>pixel8</th>\n",
              "      <th>pixel9</th>\n",
              "      <th>pixel10</th>\n",
              "      <th>pixel11</th>\n",
              "      <th>pixel12</th>\n",
              "      <th>pixel13</th>\n",
              "      <th>pixel14</th>\n",
              "      <th>pixel15</th>\n",
              "      <th>pixel16</th>\n",
              "      <th>pixel17</th>\n",
              "      <th>pixel18</th>\n",
              "      <th>pixel19</th>\n",
              "      <th>pixel20</th>\n",
              "      <th>pixel21</th>\n",
              "      <th>pixel22</th>\n",
              "      <th>pixel23</th>\n",
              "      <th>pixel24</th>\n",
              "      <th>pixel25</th>\n",
              "      <th>pixel26</th>\n",
              "      <th>pixel27</th>\n",
              "      <th>pixel28</th>\n",
              "      <th>pixel29</th>\n",
              "      <th>pixel30</th>\n",
              "      <th>pixel31</th>\n",
              "      <th>pixel32</th>\n",
              "      <th>pixel33</th>\n",
              "      <th>pixel34</th>\n",
              "      <th>pixel35</th>\n",
              "      <th>pixel36</th>\n",
              "      <th>pixel37</th>\n",
              "      <th>pixel38</th>\n",
              "      <th>pixel39</th>\n",
              "      <th>...</th>\n",
              "      <th>pixel744</th>\n",
              "      <th>pixel745</th>\n",
              "      <th>pixel746</th>\n",
              "      <th>pixel747</th>\n",
              "      <th>pixel748</th>\n",
              "      <th>pixel749</th>\n",
              "      <th>pixel750</th>\n",
              "      <th>pixel751</th>\n",
              "      <th>pixel752</th>\n",
              "      <th>pixel753</th>\n",
              "      <th>pixel754</th>\n",
              "      <th>pixel755</th>\n",
              "      <th>pixel756</th>\n",
              "      <th>pixel757</th>\n",
              "      <th>pixel758</th>\n",
              "      <th>pixel759</th>\n",
              "      <th>pixel760</th>\n",
              "      <th>pixel761</th>\n",
              "      <th>pixel762</th>\n",
              "      <th>pixel763</th>\n",
              "      <th>pixel764</th>\n",
              "      <th>pixel765</th>\n",
              "      <th>pixel766</th>\n",
              "      <th>pixel767</th>\n",
              "      <th>pixel768</th>\n",
              "      <th>pixel769</th>\n",
              "      <th>pixel770</th>\n",
              "      <th>pixel771</th>\n",
              "      <th>pixel772</th>\n",
              "      <th>pixel773</th>\n",
              "      <th>pixel774</th>\n",
              "      <th>pixel775</th>\n",
              "      <th>pixel776</th>\n",
              "      <th>pixel777</th>\n",
              "      <th>pixel778</th>\n",
              "      <th>pixel779</th>\n",
              "      <th>pixel780</th>\n",
              "      <th>pixel781</th>\n",
              "      <th>pixel782</th>\n",
              "      <th>pixel783</th>\n",
              "    </tr>\n",
              "  </thead>\n",
              "  <tbody>\n",
              "    <tr>\n",
              "      <th>0</th>\n",
              "      <td>0</td>\n",
              "      <td>0</td>\n",
              "      <td>0</td>\n",
              "      <td>0</td>\n",
              "      <td>0</td>\n",
              "      <td>0</td>\n",
              "      <td>0</td>\n",
              "      <td>0</td>\n",
              "      <td>0</td>\n",
              "      <td>0</td>\n",
              "      <td>0</td>\n",
              "      <td>0</td>\n",
              "      <td>0</td>\n",
              "      <td>0</td>\n",
              "      <td>0</td>\n",
              "      <td>0</td>\n",
              "      <td>0</td>\n",
              "      <td>0</td>\n",
              "      <td>0</td>\n",
              "      <td>0</td>\n",
              "      <td>0</td>\n",
              "      <td>0</td>\n",
              "      <td>0</td>\n",
              "      <td>0</td>\n",
              "      <td>0</td>\n",
              "      <td>0</td>\n",
              "      <td>0</td>\n",
              "      <td>0</td>\n",
              "      <td>0</td>\n",
              "      <td>0</td>\n",
              "      <td>0</td>\n",
              "      <td>0</td>\n",
              "      <td>0</td>\n",
              "      <td>0</td>\n",
              "      <td>0</td>\n",
              "      <td>0</td>\n",
              "      <td>0</td>\n",
              "      <td>0</td>\n",
              "      <td>0</td>\n",
              "      <td>0</td>\n",
              "      <td>...</td>\n",
              "      <td>0</td>\n",
              "      <td>0</td>\n",
              "      <td>0</td>\n",
              "      <td>0</td>\n",
              "      <td>0</td>\n",
              "      <td>0</td>\n",
              "      <td>0</td>\n",
              "      <td>0</td>\n",
              "      <td>0</td>\n",
              "      <td>0</td>\n",
              "      <td>0</td>\n",
              "      <td>0</td>\n",
              "      <td>0</td>\n",
              "      <td>0</td>\n",
              "      <td>0</td>\n",
              "      <td>0</td>\n",
              "      <td>0</td>\n",
              "      <td>0</td>\n",
              "      <td>0</td>\n",
              "      <td>0</td>\n",
              "      <td>0</td>\n",
              "      <td>0</td>\n",
              "      <td>0</td>\n",
              "      <td>0</td>\n",
              "      <td>0</td>\n",
              "      <td>0</td>\n",
              "      <td>0</td>\n",
              "      <td>0</td>\n",
              "      <td>0</td>\n",
              "      <td>0</td>\n",
              "      <td>0</td>\n",
              "      <td>0</td>\n",
              "      <td>0</td>\n",
              "      <td>0</td>\n",
              "      <td>0</td>\n",
              "      <td>0</td>\n",
              "      <td>0</td>\n",
              "      <td>0</td>\n",
              "      <td>0</td>\n",
              "      <td>0</td>\n",
              "    </tr>\n",
              "    <tr>\n",
              "      <th>1</th>\n",
              "      <td>0</td>\n",
              "      <td>0</td>\n",
              "      <td>0</td>\n",
              "      <td>0</td>\n",
              "      <td>0</td>\n",
              "      <td>0</td>\n",
              "      <td>0</td>\n",
              "      <td>0</td>\n",
              "      <td>0</td>\n",
              "      <td>0</td>\n",
              "      <td>0</td>\n",
              "      <td>0</td>\n",
              "      <td>0</td>\n",
              "      <td>0</td>\n",
              "      <td>0</td>\n",
              "      <td>0</td>\n",
              "      <td>0</td>\n",
              "      <td>0</td>\n",
              "      <td>0</td>\n",
              "      <td>0</td>\n",
              "      <td>0</td>\n",
              "      <td>0</td>\n",
              "      <td>0</td>\n",
              "      <td>0</td>\n",
              "      <td>0</td>\n",
              "      <td>0</td>\n",
              "      <td>0</td>\n",
              "      <td>0</td>\n",
              "      <td>0</td>\n",
              "      <td>0</td>\n",
              "      <td>0</td>\n",
              "      <td>0</td>\n",
              "      <td>0</td>\n",
              "      <td>0</td>\n",
              "      <td>0</td>\n",
              "      <td>0</td>\n",
              "      <td>0</td>\n",
              "      <td>0</td>\n",
              "      <td>0</td>\n",
              "      <td>0</td>\n",
              "      <td>...</td>\n",
              "      <td>0</td>\n",
              "      <td>0</td>\n",
              "      <td>0</td>\n",
              "      <td>0</td>\n",
              "      <td>0</td>\n",
              "      <td>0</td>\n",
              "      <td>0</td>\n",
              "      <td>0</td>\n",
              "      <td>0</td>\n",
              "      <td>0</td>\n",
              "      <td>0</td>\n",
              "      <td>0</td>\n",
              "      <td>0</td>\n",
              "      <td>0</td>\n",
              "      <td>0</td>\n",
              "      <td>0</td>\n",
              "      <td>0</td>\n",
              "      <td>0</td>\n",
              "      <td>0</td>\n",
              "      <td>0</td>\n",
              "      <td>0</td>\n",
              "      <td>0</td>\n",
              "      <td>0</td>\n",
              "      <td>0</td>\n",
              "      <td>0</td>\n",
              "      <td>0</td>\n",
              "      <td>0</td>\n",
              "      <td>0</td>\n",
              "      <td>0</td>\n",
              "      <td>0</td>\n",
              "      <td>0</td>\n",
              "      <td>0</td>\n",
              "      <td>0</td>\n",
              "      <td>0</td>\n",
              "      <td>0</td>\n",
              "      <td>0</td>\n",
              "      <td>0</td>\n",
              "      <td>0</td>\n",
              "      <td>0</td>\n",
              "      <td>0</td>\n",
              "    </tr>\n",
              "    <tr>\n",
              "      <th>2</th>\n",
              "      <td>0</td>\n",
              "      <td>0</td>\n",
              "      <td>0</td>\n",
              "      <td>0</td>\n",
              "      <td>0</td>\n",
              "      <td>0</td>\n",
              "      <td>0</td>\n",
              "      <td>0</td>\n",
              "      <td>0</td>\n",
              "      <td>0</td>\n",
              "      <td>0</td>\n",
              "      <td>0</td>\n",
              "      <td>0</td>\n",
              "      <td>0</td>\n",
              "      <td>0</td>\n",
              "      <td>0</td>\n",
              "      <td>0</td>\n",
              "      <td>0</td>\n",
              "      <td>0</td>\n",
              "      <td>0</td>\n",
              "      <td>0</td>\n",
              "      <td>0</td>\n",
              "      <td>0</td>\n",
              "      <td>0</td>\n",
              "      <td>0</td>\n",
              "      <td>0</td>\n",
              "      <td>0</td>\n",
              "      <td>0</td>\n",
              "      <td>0</td>\n",
              "      <td>0</td>\n",
              "      <td>0</td>\n",
              "      <td>0</td>\n",
              "      <td>0</td>\n",
              "      <td>0</td>\n",
              "      <td>0</td>\n",
              "      <td>0</td>\n",
              "      <td>0</td>\n",
              "      <td>0</td>\n",
              "      <td>0</td>\n",
              "      <td>0</td>\n",
              "      <td>...</td>\n",
              "      <td>0</td>\n",
              "      <td>0</td>\n",
              "      <td>0</td>\n",
              "      <td>0</td>\n",
              "      <td>0</td>\n",
              "      <td>0</td>\n",
              "      <td>0</td>\n",
              "      <td>0</td>\n",
              "      <td>0</td>\n",
              "      <td>0</td>\n",
              "      <td>0</td>\n",
              "      <td>0</td>\n",
              "      <td>0</td>\n",
              "      <td>0</td>\n",
              "      <td>0</td>\n",
              "      <td>0</td>\n",
              "      <td>0</td>\n",
              "      <td>0</td>\n",
              "      <td>0</td>\n",
              "      <td>0</td>\n",
              "      <td>0</td>\n",
              "      <td>0</td>\n",
              "      <td>0</td>\n",
              "      <td>0</td>\n",
              "      <td>0</td>\n",
              "      <td>0</td>\n",
              "      <td>0</td>\n",
              "      <td>0</td>\n",
              "      <td>0</td>\n",
              "      <td>0</td>\n",
              "      <td>0</td>\n",
              "      <td>0</td>\n",
              "      <td>0</td>\n",
              "      <td>0</td>\n",
              "      <td>0</td>\n",
              "      <td>0</td>\n",
              "      <td>0</td>\n",
              "      <td>0</td>\n",
              "      <td>0</td>\n",
              "      <td>0</td>\n",
              "    </tr>\n",
              "    <tr>\n",
              "      <th>3</th>\n",
              "      <td>0</td>\n",
              "      <td>0</td>\n",
              "      <td>0</td>\n",
              "      <td>0</td>\n",
              "      <td>0</td>\n",
              "      <td>0</td>\n",
              "      <td>0</td>\n",
              "      <td>0</td>\n",
              "      <td>0</td>\n",
              "      <td>0</td>\n",
              "      <td>0</td>\n",
              "      <td>0</td>\n",
              "      <td>0</td>\n",
              "      <td>0</td>\n",
              "      <td>0</td>\n",
              "      <td>0</td>\n",
              "      <td>0</td>\n",
              "      <td>0</td>\n",
              "      <td>0</td>\n",
              "      <td>0</td>\n",
              "      <td>0</td>\n",
              "      <td>0</td>\n",
              "      <td>0</td>\n",
              "      <td>0</td>\n",
              "      <td>0</td>\n",
              "      <td>0</td>\n",
              "      <td>0</td>\n",
              "      <td>0</td>\n",
              "      <td>0</td>\n",
              "      <td>0</td>\n",
              "      <td>0</td>\n",
              "      <td>0</td>\n",
              "      <td>0</td>\n",
              "      <td>0</td>\n",
              "      <td>0</td>\n",
              "      <td>0</td>\n",
              "      <td>0</td>\n",
              "      <td>0</td>\n",
              "      <td>0</td>\n",
              "      <td>0</td>\n",
              "      <td>...</td>\n",
              "      <td>0</td>\n",
              "      <td>0</td>\n",
              "      <td>0</td>\n",
              "      <td>0</td>\n",
              "      <td>0</td>\n",
              "      <td>0</td>\n",
              "      <td>0</td>\n",
              "      <td>0</td>\n",
              "      <td>0</td>\n",
              "      <td>0</td>\n",
              "      <td>0</td>\n",
              "      <td>0</td>\n",
              "      <td>0</td>\n",
              "      <td>0</td>\n",
              "      <td>0</td>\n",
              "      <td>0</td>\n",
              "      <td>0</td>\n",
              "      <td>0</td>\n",
              "      <td>0</td>\n",
              "      <td>0</td>\n",
              "      <td>0</td>\n",
              "      <td>0</td>\n",
              "      <td>0</td>\n",
              "      <td>0</td>\n",
              "      <td>0</td>\n",
              "      <td>0</td>\n",
              "      <td>0</td>\n",
              "      <td>0</td>\n",
              "      <td>0</td>\n",
              "      <td>0</td>\n",
              "      <td>0</td>\n",
              "      <td>0</td>\n",
              "      <td>0</td>\n",
              "      <td>0</td>\n",
              "      <td>0</td>\n",
              "      <td>0</td>\n",
              "      <td>0</td>\n",
              "      <td>0</td>\n",
              "      <td>0</td>\n",
              "      <td>0</td>\n",
              "    </tr>\n",
              "    <tr>\n",
              "      <th>4</th>\n",
              "      <td>0</td>\n",
              "      <td>0</td>\n",
              "      <td>0</td>\n",
              "      <td>0</td>\n",
              "      <td>0</td>\n",
              "      <td>0</td>\n",
              "      <td>0</td>\n",
              "      <td>0</td>\n",
              "      <td>0</td>\n",
              "      <td>0</td>\n",
              "      <td>0</td>\n",
              "      <td>0</td>\n",
              "      <td>0</td>\n",
              "      <td>0</td>\n",
              "      <td>0</td>\n",
              "      <td>0</td>\n",
              "      <td>0</td>\n",
              "      <td>0</td>\n",
              "      <td>0</td>\n",
              "      <td>0</td>\n",
              "      <td>0</td>\n",
              "      <td>0</td>\n",
              "      <td>0</td>\n",
              "      <td>0</td>\n",
              "      <td>0</td>\n",
              "      <td>0</td>\n",
              "      <td>0</td>\n",
              "      <td>0</td>\n",
              "      <td>0</td>\n",
              "      <td>0</td>\n",
              "      <td>0</td>\n",
              "      <td>0</td>\n",
              "      <td>0</td>\n",
              "      <td>0</td>\n",
              "      <td>0</td>\n",
              "      <td>0</td>\n",
              "      <td>0</td>\n",
              "      <td>0</td>\n",
              "      <td>0</td>\n",
              "      <td>0</td>\n",
              "      <td>...</td>\n",
              "      <td>0</td>\n",
              "      <td>0</td>\n",
              "      <td>0</td>\n",
              "      <td>0</td>\n",
              "      <td>0</td>\n",
              "      <td>0</td>\n",
              "      <td>0</td>\n",
              "      <td>0</td>\n",
              "      <td>0</td>\n",
              "      <td>0</td>\n",
              "      <td>0</td>\n",
              "      <td>0</td>\n",
              "      <td>0</td>\n",
              "      <td>0</td>\n",
              "      <td>0</td>\n",
              "      <td>0</td>\n",
              "      <td>0</td>\n",
              "      <td>0</td>\n",
              "      <td>0</td>\n",
              "      <td>0</td>\n",
              "      <td>0</td>\n",
              "      <td>0</td>\n",
              "      <td>0</td>\n",
              "      <td>0</td>\n",
              "      <td>0</td>\n",
              "      <td>0</td>\n",
              "      <td>0</td>\n",
              "      <td>0</td>\n",
              "      <td>0</td>\n",
              "      <td>0</td>\n",
              "      <td>0</td>\n",
              "      <td>0</td>\n",
              "      <td>0</td>\n",
              "      <td>0</td>\n",
              "      <td>0</td>\n",
              "      <td>0</td>\n",
              "      <td>0</td>\n",
              "      <td>0</td>\n",
              "      <td>0</td>\n",
              "      <td>0</td>\n",
              "    </tr>\n",
              "  </tbody>\n",
              "</table>\n",
              "<p>5 rows × 784 columns</p>\n",
              "</div>\n",
              "      <button class=\"colab-df-convert\" onclick=\"convertToInteractive('df-4a803862-1b21-479e-adc9-b05e96175f2c')\"\n",
              "              title=\"Convert this dataframe to an interactive table.\"\n",
              "              style=\"display:none;\">\n",
              "        \n",
              "  <svg xmlns=\"http://www.w3.org/2000/svg\" height=\"24px\"viewBox=\"0 0 24 24\"\n",
              "       width=\"24px\">\n",
              "    <path d=\"M0 0h24v24H0V0z\" fill=\"none\"/>\n",
              "    <path d=\"M18.56 5.44l.94 2.06.94-2.06 2.06-.94-2.06-.94-.94-2.06-.94 2.06-2.06.94zm-11 1L8.5 8.5l.94-2.06 2.06-.94-2.06-.94L8.5 2.5l-.94 2.06-2.06.94zm10 10l.94 2.06.94-2.06 2.06-.94-2.06-.94-.94-2.06-.94 2.06-2.06.94z\"/><path d=\"M17.41 7.96l-1.37-1.37c-.4-.4-.92-.59-1.43-.59-.52 0-1.04.2-1.43.59L10.3 9.45l-7.72 7.72c-.78.78-.78 2.05 0 2.83L4 21.41c.39.39.9.59 1.41.59.51 0 1.02-.2 1.41-.59l7.78-7.78 2.81-2.81c.8-.78.8-2.07 0-2.86zM5.41 20L4 18.59l7.72-7.72 1.47 1.35L5.41 20z\"/>\n",
              "  </svg>\n",
              "      </button>\n",
              "      \n",
              "  <style>\n",
              "    .colab-df-container {\n",
              "      display:flex;\n",
              "      flex-wrap:wrap;\n",
              "      gap: 12px;\n",
              "    }\n",
              "\n",
              "    .colab-df-convert {\n",
              "      background-color: #E8F0FE;\n",
              "      border: none;\n",
              "      border-radius: 50%;\n",
              "      cursor: pointer;\n",
              "      display: none;\n",
              "      fill: #1967D2;\n",
              "      height: 32px;\n",
              "      padding: 0 0 0 0;\n",
              "      width: 32px;\n",
              "    }\n",
              "\n",
              "    .colab-df-convert:hover {\n",
              "      background-color: #E2EBFA;\n",
              "      box-shadow: 0px 1px 2px rgba(60, 64, 67, 0.3), 0px 1px 3px 1px rgba(60, 64, 67, 0.15);\n",
              "      fill: #174EA6;\n",
              "    }\n",
              "\n",
              "    [theme=dark] .colab-df-convert {\n",
              "      background-color: #3B4455;\n",
              "      fill: #D2E3FC;\n",
              "    }\n",
              "\n",
              "    [theme=dark] .colab-df-convert:hover {\n",
              "      background-color: #434B5C;\n",
              "      box-shadow: 0px 1px 3px 1px rgba(0, 0, 0, 0.15);\n",
              "      filter: drop-shadow(0px 1px 2px rgba(0, 0, 0, 0.3));\n",
              "      fill: #FFFFFF;\n",
              "    }\n",
              "  </style>\n",
              "\n",
              "      <script>\n",
              "        const buttonEl =\n",
              "          document.querySelector('#df-4a803862-1b21-479e-adc9-b05e96175f2c button.colab-df-convert');\n",
              "        buttonEl.style.display =\n",
              "          google.colab.kernel.accessAllowed ? 'block' : 'none';\n",
              "\n",
              "        async function convertToInteractive(key) {\n",
              "          const element = document.querySelector('#df-4a803862-1b21-479e-adc9-b05e96175f2c');\n",
              "          const dataTable =\n",
              "            await google.colab.kernel.invokeFunction('convertToInteractive',\n",
              "                                                     [key], {});\n",
              "          if (!dataTable) return;\n",
              "\n",
              "          const docLinkHtml = 'Like what you see? Visit the ' +\n",
              "            '<a target=\"_blank\" href=https://colab.research.google.com/notebooks/data_table.ipynb>data table notebook</a>'\n",
              "            + ' to learn more about interactive tables.';\n",
              "          element.innerHTML = '';\n",
              "          dataTable['output_type'] = 'display_data';\n",
              "          await google.colab.output.renderOutput(dataTable, element);\n",
              "          const docLink = document.createElement('div');\n",
              "          docLink.innerHTML = docLinkHtml;\n",
              "          element.appendChild(docLink);\n",
              "        }\n",
              "      </script>\n",
              "    </div>\n",
              "  </div>\n",
              "  "
            ],
            "text/plain": [
              "   pixel0  pixel1  pixel2  pixel3  ...  pixel780  pixel781  pixel782  pixel783\n",
              "0       0       0       0       0  ...         0         0         0         0\n",
              "1       0       0       0       0  ...         0         0         0         0\n",
              "2       0       0       0       0  ...         0         0         0         0\n",
              "3       0       0       0       0  ...         0         0         0         0\n",
              "4       0       0       0       0  ...         0         0         0         0\n",
              "\n",
              "[5 rows x 784 columns]"
            ]
          },
          "metadata": {},
          "execution_count": 5
        }
      ]
    },
    {
      "cell_type": "code",
      "source": [
        "# test_df details (number of rows used later)\n",
        "test_df.info()"
      ],
      "metadata": {
        "colab": {
          "base_uri": "https://localhost:8080/"
        },
        "id": "XzmGMhNJWUCp",
        "outputId": "3c3200b8-b6ab-494c-881c-90419cec9dfc"
      },
      "execution_count": 6,
      "outputs": [
        {
          "output_type": "stream",
          "name": "stdout",
          "text": [
            "<class 'pandas.core.frame.DataFrame'>\n",
            "RangeIndex: 28000 entries, 0 to 27999\n",
            "Columns: 784 entries, pixel0 to pixel783\n",
            "dtypes: int64(784)\n",
            "memory usage: 167.5 MB\n"
          ]
        }
      ]
    },
    {
      "cell_type": "code",
      "source": [
        "# distribution of label value in train data\n",
        "sns.histplot(x='label', data=train_df)"
      ],
      "metadata": {
        "colab": {
          "base_uri": "https://localhost:8080/",
          "height": 296
        },
        "id": "wg2bPaMvNtZT",
        "outputId": "5106d206-d9ad-4d88-df00-b7378d0e494c"
      },
      "execution_count": 6,
      "outputs": [
        {
          "output_type": "execute_result",
          "data": {
            "text/plain": [
              "<matplotlib.axes._subplots.AxesSubplot at 0x7f1d951e5690>"
            ]
          },
          "metadata": {},
          "execution_count": 6
        },
        {
          "output_type": "display_data",
          "data": {
            "image/png": "[encoded data removed]",
            "text/plain": [
              "<Figure size 432x288 with 1 Axes>"
            ]
          },
          "metadata": {
            "needs_background": "light"
          }
        }
      ]
    },
    {
      "cell_type": "markdown",
      "source": [
        "As displayed in the above plot, the label values appear to are nearly uniformly distributed among the training data. There is no class imbalance within the dataset, and no corrective sampling technique will be needed when splitting the data into train/validation sets."
      ],
      "metadata": {
        "id": "XclelTdSN8_7"
      }
    },
    {
      "cell_type": "markdown",
      "source": [
        "## Modeling \n",
        "\n",
        "We will apply the following techniques to predict labels on this dataset:\n",
        "-   Random Forest Classifier\n",
        "-   Random Forest Classifer with Principal Component Analysis (PCA)\n",
        "-   K-Means Clustering"
      ],
      "metadata": {
        "id": "maKJuMfIOwwV"
      }
    },
    {
      "cell_type": "code",
      "source": [
        "# set seed for reproducibility\n",
        "np.random.seed(123)\n",
        "# train-test split\n",
        "X_train, X_test, y_train, y_test = train_test_split(train_df.iloc[:, 1:], train_df.iloc[:, 0], test_size=0.20)"
      ],
      "metadata": {
        "id": "JFAn353FO0fz"
      },
      "execution_count": 7,
      "outputs": []
    },
    {
      "cell_type": "markdown",
      "source": [
        "### Random Forest Classifier"
      ],
      "metadata": {
        "id": "GaL75LD2OcBV"
      }
    },
    {
      "cell_type": "code",
      "source": [
        "rf_van = RandomForestClassifier()"
      ],
      "metadata": {
        "id": "-lraY6S4PoCN"
      },
      "execution_count": 8,
      "outputs": []
    },
    {
      "cell_type": "code",
      "source": [
        "# fit rf model and report elapsed time\n",
        "start = datetime.now()\n",
        "\n",
        "rf_van.fit(X_train, y_train)\n",
        "\n",
        "end = datetime.now()\n",
        "print('elapsed time: ', end-start)"
      ],
      "metadata": {
        "colab": {
          "base_uri": "https://localhost:8080/"
        },
        "id": "IVZnms50QgLW",
        "outputId": "9d0bbab6-4c6f-4339-bcd1-2875941d0210"
      },
      "execution_count": 12,
      "outputs": [
        {
          "output_type": "stream",
          "name": "stdout",
          "text": [
            "elapsed time:  0:00:23.612507\n"
          ]
        }
      ]
    },
    {
      "cell_type": "code",
      "source": [
        "# apply fitted rf model to validation set and report elapsed time\n",
        "start = datetime.now()\n",
        "\n",
        "rf_van_test = rf_van.predict(X_test)\n",
        "print('accuracy score: ', accuracy_score(rf_van_test, y_test))\n",
        "\n",
        "end = datetime.now()\n",
        "print('elapsed time: ', end-start)"
      ],
      "metadata": {
        "colab": {
          "base_uri": "https://localhost:8080/"
        },
        "id": "TKeulSOiRemU",
        "outputId": "c6270e98-41bf-41a2-cff8-9bf9b93013e7"
      },
      "execution_count": 14,
      "outputs": [
        {
          "output_type": "stream",
          "name": "stdout",
          "text": [
            "accuracy score:  0.9639285714285715\n",
            "elapsed time:  0:00:01.084259\n"
          ]
        }
      ]
    },
    {
      "cell_type": "code",
      "source": [
        "# predict on final test set for kaggle submission\n",
        "rf_van_pred = rf_van.predict(test_df)\n",
        "\n",
        "rf_van_labels = pd.Series(rf_van_pred, name='Label')\n",
        "\n",
        "rf_van_submit = pd.concat([pd.Series(range(1,28001), name='ImageID'), rf_van_labels], axis = 1)"
      ],
      "metadata": {
        "id": "4xSzU7TISy19"
      },
      "execution_count": 17,
      "outputs": []
    },
    {
      "cell_type": "code",
      "source": [
        "print(rf_van_submit)"
      ],
      "metadata": {
        "colab": {
          "base_uri": "https://localhost:8080/"
        },
        "id": "NpRzICoaUOqM",
        "outputId": "ff98b445-c730-4475-9d24-7cf856827ece"
      },
      "execution_count": 18,
      "outputs": [
        {
          "output_type": "stream",
          "name": "stdout",
          "text": [
            "       ImageID  Label\n",
            "0            1      2\n",
            "1            2      0\n",
            "2            3      9\n",
            "3            4      4\n",
            "4            5      3\n",
            "...        ...    ...\n",
            "27995    27996      9\n",
            "27996    27997      7\n",
            "27997    27998      3\n",
            "27998    27999      9\n",
            "27999    28000      2\n",
            "\n",
            "[28000 rows x 2 columns]\n"
          ]
        }
      ]
    },
    {
      "cell_type": "code",
      "source": [
        "# export final predictions\n",
        "rf_van_submit.to_csv('rf_van_submit.csv', index=False)\n",
        "\n",
        "files.download('rf_van_submit.csv')"
      ],
      "metadata": {
        "colab": {
          "base_uri": "https://localhost:8080/",
          "height": 17
        },
        "id": "lRqajnDIUUZe",
        "outputId": "6eb5afe5-1885-4f78-bf55-f4566aefda2f"
      },
      "execution_count": 19,
      "outputs": [
        {
          "output_type": "display_data",
          "data": {
            "application/javascript": [
              "\n",
              "    async function download(id, filename, size) {\n",
              "      if (!google.colab.kernel.accessAllowed) {\n",
              "        return;\n",
              "      }\n",
              "      const div = document.createElement('div');\n",
              "      const label = document.createElement('label');\n",
              "      label.textContent = `Downloading \"${filename}\": `;\n",
              "      div.appendChild(label);\n",
              "      const progress = document.createElement('progress');\n",
              "      progress.max = size;\n",
              "      div.appendChild(progress);\n",
              "      document.body.appendChild(div);\n",
              "\n",
              "      const buffers = [];\n",
              "      let downloaded = 0;\n",
              "\n",
              "      const channel = await google.colab.kernel.comms.open(id);\n",
              "      // Send a message to notify the kernel that we're ready.\n",
              "      channel.send({})\n",
              "\n",
              "      for await (const message of channel.messages) {\n",
              "        // Send a message to notify the kernel that we're ready.\n",
              "        channel.send({})\n",
              "        if (message.buffers) {\n",
              "          for (const buffer of message.buffers) {\n",
              "            buffers.push(buffer);\n",
              "            downloaded += buffer.byteLength;\n",
              "            progress.value = downloaded;\n",
              "          }\n",
              "        }\n",
              "      }\n",
              "      const blob = new Blob(buffers, {type: 'application/binary'});\n",
              "      const a = document.createElement('a');\n",
              "      a.href = window.URL.createObjectURL(blob);\n",
              "      a.download = filename;\n",
              "      div.appendChild(a);\n",
              "      a.click();\n",
              "      div.remove();\n",
              "    }\n",
              "  "
            ],
            "text/plain": [
              "<IPython.core.display.Javascript object>"
            ]
          },
          "metadata": {}
        },
        {
          "output_type": "display_data",
          "data": {
            "application/javascript": [
              "download(\"download_0f9bfbb3-e665-4bb7-9a6c-b1f37350b051\", \"rf_van_submit.csv\", 212908)"
            ],
            "text/plain": [
              "<IPython.core.display.Javascript object>"
            ]
          },
          "metadata": {}
        }
      ]
    },
    {
      "cell_type": "markdown",
      "source": [
        "![image.png](data:image/png;base64,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)"
      ],
      "metadata": {
        "id": "IIa_Q2xuUrcI"
      }
    },
    {
      "cell_type": "markdown",
      "source": [
        "### Random Forest Classifier with PCA"
      ],
      "metadata": {
        "id": "sm60ZFo6Us-_"
      }
    },
    {
      "cell_type": "code",
      "source": [
        "# combine train and test dfs so that transformations apply to both\n",
        "all_data = (train_df.iloc[:, 1:]).append(test_df)\n",
        "all_data.info()"
      ],
      "metadata": {
        "colab": {
          "base_uri": "https://localhost:8080/"
        },
        "id": "CtCnsLm_VOXT",
        "outputId": "9523b513-0074-4336-ea52-e11fb3df6f07"
      },
      "execution_count": 11,
      "outputs": [
        {
          "output_type": "stream",
          "name": "stdout",
          "text": [
            "<class 'pandas.core.frame.DataFrame'>\n",
            "Int64Index: 70000 entries, 0 to 27999\n",
            "Columns: 784 entries, pixel0 to pixel783\n",
            "dtypes: int64(784)\n",
            "memory usage: 419.2 MB\n"
          ]
        }
      ]
    },
    {
      "cell_type": "markdown",
      "source": [
        "While scaling was unnecessary when applying random forest alone, it is necessary to scale data before performing PCA. Applying starndard scaler accordingly."
      ],
      "metadata": {
        "id": "tqF_0BTHYhyr"
      }
    },
    {
      "cell_type": "code",
      "source": [
        "sscaler = StandardScaler()\n",
        "all_data_scaled = sscaler.fit_transform(all_data)"
      ],
      "metadata": {
        "id": "JYXfwFzCYhB7"
      },
      "execution_count": 12,
      "outputs": []
    },
    {
      "cell_type": "code",
      "source": [
        "pca = PCA(n_components=0.95)"
      ],
      "metadata": {
        "id": "qTNZ2_XkU-i1"
      },
      "execution_count": 24,
      "outputs": []
    },
    {
      "cell_type": "code",
      "source": [
        "# execute PCA on combined datasets and report elapsed time\n",
        "start = datetime.now()\n",
        "\n",
        "pca.fit(all_data_scaled)\n",
        "all_data_reduced = pca.transform(all_data_scaled)\n",
        "\n",
        "end = datetime.now()\n",
        "print('elapsed time: ', end-start)"
      ],
      "metadata": {
        "colab": {
          "base_uri": "https://localhost:8080/"
        },
        "id": "8XOOUKt9WoXR",
        "outputId": "2b0dd283-6ea4-4731-a766-bf1d4fbf0459"
      },
      "execution_count": 26,
      "outputs": [
        {
          "output_type": "stream",
          "name": "stdout",
          "text": [
            "elapsed time:  0:00:18.002386\n"
          ]
        }
      ]
    },
    {
      "cell_type": "code",
      "source": [
        "pca.n_components_"
      ],
      "metadata": {
        "colab": {
          "base_uri": "https://localhost:8080/"
        },
        "id": "ef41s5siZQPk",
        "outputId": "486030e2-b0ea-4e39-8ab8-596d6396df47"
      },
      "execution_count": 27,
      "outputs": [
        {
          "output_type": "execute_result",
          "data": {
            "text/plain": [
              "332"
            ]
          },
          "metadata": {},
          "execution_count": 27
        }
      ]
    },
    {
      "cell_type": "code",
      "source": [
        "# re-split the original train and test data by index\n",
        "X_train_pca = all_data_reduced[:42000, :]\n",
        "test_df_pca = all_data_reduced[42000:, :]\n"
      ],
      "metadata": {
        "id": "v0tauPf3ZtSs"
      },
      "execution_count": 28,
      "outputs": []
    },
    {
      "cell_type": "code",
      "source": [
        "# recreate 80% train and 20% 'test'/validation split\n",
        "# set seed for reproducibility\n",
        "np.random.seed(123)\n",
        "X_train, X_test, y_train, y_test = train_test_split(X_train_pca, train_df.iloc[:, 0], test_size=0.20)"
      ],
      "metadata": {
        "id": "-MefioEQaD_i"
      },
      "execution_count": 30,
      "outputs": []
    },
    {
      "cell_type": "code",
      "source": [
        "rf_pca = RandomForestClassifier()"
      ],
      "metadata": {
        "id": "xXnXBdI1atbS"
      },
      "execution_count": 31,
      "outputs": []
    },
    {
      "cell_type": "code",
      "source": [
        "# fit rf model and report elapsed time\n",
        "start = datetime.now()\n",
        "\n",
        "rf_pca.fit(X_train, y_train)\n",
        "\n",
        "end = datetime.now()\n",
        "print('elapsed time: ', end-start)"
      ],
      "metadata": {
        "colab": {
          "base_uri": "https://localhost:8080/"
        },
        "id": "nVuQLaA_a5dN",
        "outputId": "3255b8ed-6019-4d8d-9dfd-601f49d9bf4a"
      },
      "execution_count": 32,
      "outputs": [
        {
          "output_type": "stream",
          "name": "stdout",
          "text": [
            "elapsed time:  0:01:38.542713\n"
          ]
        }
      ]
    },
    {
      "cell_type": "code",
      "source": [
        "# apply fitted rf model to validation set and report elapsed time\n",
        "start = datetime.now()\n",
        "\n",
        "rf_pca_test = rf_pca.predict(X_test)\n",
        "print('accuracy score: ', accuracy_score(rf_pca_test, y_test))\n",
        "\n",
        "end = datetime.now()\n",
        "print('elapsed time: ', end-start)"
      ],
      "metadata": {
        "colab": {
          "base_uri": "https://localhost:8080/"
        },
        "id": "9s0yg-wjbH-6",
        "outputId": "4dae1be1-b360-48b4-f9ee-9a9e94d6ae1a"
      },
      "execution_count": 33,
      "outputs": [
        {
          "output_type": "stream",
          "name": "stdout",
          "text": [
            "accuracy score:  0.9285714285714286\n",
            "elapsed time:  0:00:00.345678\n"
          ]
        }
      ]
    },
    {
      "cell_type": "code",
      "source": [
        "# predict on final test set for kaggle submission\n",
        "rf_pca_pred = rf_pca.predict(test_df_pca)\n",
        "\n",
        "rf_pca_labels = pd.Series(rf_pca_pred, name='Label')\n",
        "\n",
        "rf_pca_submit = pd.concat([pd.Series(range(1,28001), name='ImageID'), rf_pca_labels], axis = 1)"
      ],
      "metadata": {
        "id": "1aiNkdGTbUvh"
      },
      "execution_count": 35,
      "outputs": []
    },
    {
      "cell_type": "code",
      "source": [
        "print(rf_pca_submit)"
      ],
      "metadata": {
        "colab": {
          "base_uri": "https://localhost:8080/"
        },
        "id": "7hQ-9RYzbxOV",
        "outputId": "1586de36-cbab-4c35-f62d-90f55732635f"
      },
      "execution_count": 36,
      "outputs": [
        {
          "output_type": "stream",
          "name": "stdout",
          "text": [
            "       ImageID  Label\n",
            "0            1      2\n",
            "1            2      0\n",
            "2            3      9\n",
            "3            4      4\n",
            "4            5      3\n",
            "...        ...    ...\n",
            "27995    27996      9\n",
            "27996    27997      7\n",
            "27997    27998      3\n",
            "27998    27999      9\n",
            "27999    28000      2\n",
            "\n",
            "[28000 rows x 2 columns]\n"
          ]
        }
      ]
    },
    {
      "cell_type": "code",
      "source": [
        "# export final predictions\n",
        "rf_pca_submit.to_csv('rf_pca_submit.csv', index=False)\n",
        "\n",
        "files.download('rf_pca_submit.csv')"
      ],
      "metadata": {
        "colab": {
          "base_uri": "https://localhost:8080/",
          "height": 17
        },
        "id": "MZmi7rfub2Rr",
        "outputId": "a45b4e58-ad50-4075-91bb-e9ab154cd022"
      },
      "execution_count": 37,
      "outputs": [
        {
          "output_type": "display_data",
          "data": {
            "application/javascript": [
              "\n",
              "    async function download(id, filename, size) {\n",
              "      if (!google.colab.kernel.accessAllowed) {\n",
              "        return;\n",
              "      }\n",
              "      const div = document.createElement('div');\n",
              "      const label = document.createElement('label');\n",
              "      label.textContent = `Downloading \"${filename}\": `;\n",
              "      div.appendChild(label);\n",
              "      const progress = document.createElement('progress');\n",
              "      progress.max = size;\n",
              "      div.appendChild(progress);\n",
              "      document.body.appendChild(div);\n",
              "\n",
              "      const buffers = [];\n",
              "      let downloaded = 0;\n",
              "\n",
              "      const channel = await google.colab.kernel.comms.open(id);\n",
              "      // Send a message to notify the kernel that we're ready.\n",
              "      channel.send({})\n",
              "\n",
              "      for await (const message of channel.messages) {\n",
              "        // Send a message to notify the kernel that we're ready.\n",
              "        channel.send({})\n",
              "        if (message.buffers) {\n",
              "          for (const buffer of message.buffers) {\n",
              "            buffers.push(buffer);\n",
              "            downloaded += buffer.byteLength;\n",
              "            progress.value = downloaded;\n",
              "          }\n",
              "        }\n",
              "      }\n",
              "      const blob = new Blob(buffers, {type: 'application/binary'});\n",
              "      const a = document.createElement('a');\n",
              "      a.href = window.URL.createObjectURL(blob);\n",
              "      a.download = filename;\n",
              "      div.appendChild(a);\n",
              "      a.click();\n",
              "      div.remove();\n",
              "    }\n",
              "  "
            ],
            "text/plain": [
              "<IPython.core.display.Javascript object>"
            ]
          },
          "metadata": {}
        },
        {
          "output_type": "display_data",
          "data": {
            "application/javascript": [
              "download(\"download_ad84494e-3745-4e1d-94de-7c89cdb031e7\", \"rf_pca_submit.csv\", 212908)"
            ],
            "text/plain": [
              "<IPython.core.display.Javascript object>"
            ]
          },
          "metadata": {}
        }
      ]
    },
    {
      "cell_type": "markdown",
      "source": [
        "![image.png](data:image/png;base64,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)"
      ],
      "metadata": {
        "id": "IWclP3nNb-GU"
      }
    },
    {
      "cell_type": "markdown",
      "source": [
        "### K-Means Clustering"
      ],
      "metadata": {
        "id": "8-Qk3rC4cQEv"
      }
    },
    {
      "cell_type": "code",
      "source": [
        "# set seed for reproducibility\n",
        "np.random.seed(123)\n",
        "# train-test split (redoing after PCA to return to original dataset)\n",
        "X_train, X_test, y_train, y_test = train_test_split(train_df.iloc[:, 1:], train_df.iloc[:, 0], test_size=0.20)"
      ],
      "metadata": {
        "id": "m-NUwMmvd6NI"
      },
      "execution_count": 7,
      "outputs": []
    },
    {
      "cell_type": "code",
      "source": [
        "print(X_train.shape)"
      ],
      "metadata": {
        "colab": {
          "base_uri": "https://localhost:8080/"
        },
        "id": "PNawQZ60cPGp",
        "outputId": "a14a4abc-7da1-442e-98c1-aa87d29950b1"
      },
      "execution_count": 8,
      "outputs": [
        {
          "output_type": "stream",
          "name": "stdout",
          "text": [
            "(33600, 784)\n"
          ]
        }
      ]
    },
    {
      "cell_type": "code",
      "source": [
        "sscaler.fit(train_df.iloc[:, 1:])\n",
        "X_train = sscaler.transform(X_train)\n",
        "test_df = sscaler.transform(test_df)"
      ],
      "metadata": {
        "id": "DOVzefAmo_OP"
      },
      "execution_count": 13,
      "outputs": []
    },
    {
      "cell_type": "code",
      "source": [
        "n_digits = len(np.unique(y_test))\n",
        "print(n_digits)"
      ],
      "metadata": {
        "colab": {
          "base_uri": "https://localhost:8080/"
        },
        "id": "q50-WkM8eybr",
        "outputId": "416555fe-5cb8-48e7-cde4-85287f9141e6"
      },
      "execution_count": 14,
      "outputs": [
        {
          "output_type": "stream",
          "name": "stdout",
          "text": [
            "10\n"
          ]
        }
      ]
    },
    {
      "cell_type": "code",
      "source": [
        "# Initialize KMeans model\n",
        "kmeans = MiniBatchKMeans(n_clusters = n_digits)"
      ],
      "metadata": {
        "id": "FV6u8qPee8WF"
      },
      "execution_count": 15,
      "outputs": []
    },
    {
      "cell_type": "code",
      "source": [
        "# Fit model to training data\n",
        "kmeans.fit(X_train)\n"
      ],
      "metadata": {
        "colab": {
          "base_uri": "https://localhost:8080/"
        },
        "id": "p1JyEMD3fDeK",
        "outputId": "3f16340c-6880-455f-d640-919976e660f8"
      },
      "execution_count": 34,
      "outputs": [
        {
          "output_type": "execute_result",
          "data": {
            "text/plain": [
              "MiniBatchKMeans(n_clusters=10)"
            ]
          },
          "metadata": {},
          "execution_count": 34
        }
      ]
    },
    {
      "cell_type": "code",
      "source": [
        "kmeans.labels_"
      ],
      "metadata": {
        "colab": {
          "base_uri": "https://localhost:8080/"
        },
        "id": "YIVATkLCfw3O",
        "outputId": "7eaebf02-5315-4fa6-f892-361925097f08"
      },
      "execution_count": 35,
      "outputs": [
        {
          "output_type": "execute_result",
          "data": {
            "text/plain": [
              "array([8, 1, 8, ..., 1, 2, 1], dtype=int32)"
            ]
          },
          "metadata": {},
          "execution_count": 35
        }
      ]
    },
    {
      "cell_type": "code",
      "source": [
        "len(kmeans.labels_)"
      ],
      "metadata": {
        "colab": {
          "base_uri": "https://localhost:8080/"
        },
        "id": "CQF97vYgM0uf",
        "outputId": "162a15c3-cc60-4bbe-9f5b-83d3412b824b"
      },
      "execution_count": 36,
      "outputs": [
        {
          "output_type": "execute_result",
          "data": {
            "text/plain": [
              "33600"
            ]
          },
          "metadata": {},
          "execution_count": 36
        }
      ]
    },
    {
      "cell_type": "markdown",
      "source": [
        "The labels assigned by this K-Means algorithm do not actually refer to the final integer labels we intend to submit; rather, they just refer to the cluster each image was assigned to. The following process predicts which actual integer Label should be assigned to each cluster."
      ],
      "metadata": {
        "id": "YqzRcPghf4Ku"
      }
    },
    {
      "cell_type": "code",
      "source": [
        "def retrieve_info(cluster_labels, y):\n",
        "  # initializing\n",
        "  reference_labels = {}\n",
        "\n",
        "  # for loop to run through each label of cluster label\n",
        "  for i in range(len(np.unique(kmeans.labels_))):\n",
        "\n",
        "    index = np.where(cluster_labels == i,1,0)\n",
        "    num = np.bincount(y[index==1]).argmax()\n",
        "    reference_labels[i] = num\n",
        "\n",
        "  return reference_labels"
      ],
      "metadata": {
        "id": "VSmCOJV_mkcQ"
      },
      "execution_count": 37,
      "outputs": []
    },
    {
      "cell_type": "code",
      "source": [
        "reference_labels = retrieve_info(kmeans.labels_, y_train)\n",
        "print(reference_labels)"
      ],
      "metadata": {
        "colab": {
          "base_uri": "https://localhost:8080/"
        },
        "id": "P44S_5FWne2X",
        "outputId": "a99101fb-2caf-45cf-d7ce-ad0a7ff3dd6d"
      },
      "execution_count": 38,
      "outputs": [
        {
          "output_type": "stream",
          "name": "stdout",
          "text": [
            "{0: 5, 1: 9, 2: 0, 3: 3, 4: 6, 5: 3, 6: 1, 7: 0, 8: 8, 9: 6}\n"
          ]
        }
      ]
    },
    {
      "cell_type": "code",
      "source": [
        "number_labels = np.random.rand(len(kmeans.labels_))\n",
        "print(number_labels)"
      ],
      "metadata": {
        "colab": {
          "base_uri": "https://localhost:8080/"
        },
        "id": "vRWP2ZeCnr4t",
        "outputId": "935ea47d-3690-459a-996d-926d8f7ecbc7"
      },
      "execution_count": 39,
      "outputs": [
        {
          "output_type": "stream",
          "name": "stdout",
          "text": [
            "[0.35169116 0.57607059 0.52712471 ... 0.25838041 0.04569939 0.38669843]\n"
          ]
        }
      ]
    },
    {
      "cell_type": "code",
      "source": [
        "len(number_labels)"
      ],
      "metadata": {
        "colab": {
          "base_uri": "https://localhost:8080/"
        },
        "id": "hjDZTEMLM994",
        "outputId": "22834ac4-221b-4a67-86ea-5421c67f60ae"
      },
      "execution_count": 40,
      "outputs": [
        {
          "output_type": "execute_result",
          "data": {
            "text/plain": [
              "33600"
            ]
          },
          "metadata": {},
          "execution_count": 40
        }
      ]
    },
    {
      "cell_type": "code",
      "source": [
        "for i in range(len(kmeans.labels_)):\n",
        "  number_labels[i] = reference_labels[kmeans.labels_[i]]"
      ],
      "metadata": {
        "id": "y1d2iLqFn1kL"
      },
      "execution_count": 42,
      "outputs": []
    },
    {
      "cell_type": "code",
      "source": [
        "print(number_labels)"
      ],
      "metadata": {
        "colab": {
          "base_uri": "https://localhost:8080/"
        },
        "id": "063gi-h8oCzj",
        "outputId": "418d1468-671e-48c5-98fe-7d9104017b18"
      },
      "execution_count": 43,
      "outputs": [
        {
          "output_type": "stream",
          "name": "stdout",
          "text": [
            "[8. 9. 8. ... 9. 0. 9.]\n"
          ]
        }
      ]
    },
    {
      "cell_type": "code",
      "source": [
        "# print accuracy score of labels\n",
        "print(accuracy_score(number_labels, y_train))"
      ],
      "metadata": {
        "colab": {
          "base_uri": "https://localhost:8080/"
        },
        "id": "vok-V4fOPEl-",
        "outputId": "6c283c28-2840-4e11-aafd-fdd7046b3de1"
      },
      "execution_count": 44,
      "outputs": [
        {
          "output_type": "stream",
          "name": "stdout",
          "text": [
            "0.4644345238095238\n"
          ]
        }
      ]
    },
    {
      "cell_type": "code",
      "source": [
        "kmeans_pred = kmeans.predict(test_df)"
      ],
      "metadata": {
        "id": "A5kzgBfnPOOF"
      },
      "execution_count": 45,
      "outputs": []
    },
    {
      "cell_type": "code",
      "source": [
        "len(kmeans_pred)"
      ],
      "metadata": {
        "colab": {
          "base_uri": "https://localhost:8080/"
        },
        "id": "J4n3iGJbQCKt",
        "outputId": "b69926f4-5ddd-4c7b-cee9-66cc3b63f751"
      },
      "execution_count": 46,
      "outputs": [
        {
          "output_type": "execute_result",
          "data": {
            "text/plain": [
              "28000"
            ]
          },
          "metadata": {},
          "execution_count": 46
        }
      ]
    },
    {
      "cell_type": "code",
      "source": [
        "number_labels = np.random.rand(len(kmeans_pred))\n",
        "print(number_labels)"
      ],
      "metadata": {
        "colab": {
          "base_uri": "https://localhost:8080/"
        },
        "id": "RB6zQSIqQFRY",
        "outputId": "69760131-a5df-4f5a-df8a-531e0070f3ff"
      },
      "execution_count": 47,
      "outputs": [
        {
          "output_type": "stream",
          "name": "stdout",
          "text": [
            "[0.28310592 0.44361504 0.23359843 ... 0.23597199 0.35371597 0.8813247 ]\n"
          ]
        }
      ]
    },
    {
      "cell_type": "code",
      "source": [
        "for i in range(len(kmeans_pred)):\n",
        "  number_labels[i] = reference_labels[kmeans.labels_[i]]"
      ],
      "metadata": {
        "id": "rBpmqTwMQPuj"
      },
      "execution_count": 50,
      "outputs": []
    },
    {
      "cell_type": "code",
      "source": [
        "print(number_labels)"
      ],
      "metadata": {
        "colab": {
          "base_uri": "https://localhost:8080/"
        },
        "id": "7T3f0wlFQyyN",
        "outputId": "4825654d-8d79-4505-8235-4d8017051e4e"
      },
      "execution_count": 51,
      "outputs": [
        {
          "output_type": "stream",
          "name": "stdout",
          "text": [
            "[8. 9. 8. ... 9. 1. 6.]\n"
          ]
        }
      ]
    },
    {
      "cell_type": "code",
      "source": [
        "len(number_labels)"
      ],
      "metadata": {
        "colab": {
          "base_uri": "https://localhost:8080/"
        },
        "id": "HkDny6BmQzn1",
        "outputId": "b5836f46-ea9d-473f-81e4-87299a2e392d"
      },
      "execution_count": 52,
      "outputs": [
        {
          "output_type": "execute_result",
          "data": {
            "text/plain": [
              "28000"
            ]
          },
          "metadata": {},
          "execution_count": 52
        }
      ]
    },
    {
      "cell_type": "code",
      "source": [
        "Id = []\n",
        "for i in range(1, len(number_labels) + 1):\n",
        "  Id.append(i)\n"
      ],
      "metadata": {
        "id": "hAHmotrvoGMc"
      },
      "execution_count": 53,
      "outputs": []
    },
    {
      "cell_type": "code",
      "source": [
        "# organize final test set for kaggle submission\n",
        "\n",
        "kmeans_labels = pd.DataFrame(list(zip(Id, number_labels)), columns = ['ImageId', 'Label'])\n"
      ],
      "metadata": {
        "id": "lgmYG-ttorBE"
      },
      "execution_count": 54,
      "outputs": []
    },
    {
      "cell_type": "code",
      "source": [
        "print(kmeans_labels)"
      ],
      "metadata": {
        "colab": {
          "base_uri": "https://localhost:8080/"
        },
        "id": "mfHGW6SxL7eM",
        "outputId": "130d8744-57cb-4d98-c045-a44e49613642"
      },
      "execution_count": 55,
      "outputs": [
        {
          "output_type": "stream",
          "name": "stdout",
          "text": [
            "       ImageId  Label\n",
            "0            1    8.0\n",
            "1            2    9.0\n",
            "2            3    8.0\n",
            "3            4    1.0\n",
            "4            5    1.0\n",
            "...        ...    ...\n",
            "27995    27996    0.0\n",
            "27996    27997    1.0\n",
            "27997    27998    9.0\n",
            "27998    27999    1.0\n",
            "27999    28000    6.0\n",
            "\n",
            "[28000 rows x 2 columns]\n"
          ]
        }
      ]
    },
    {
      "cell_type": "code",
      "source": [
        "# export final predictions\n",
        "kmeans_labels.to_csv('kmeans_labels.csv', index=False)\n",
        "\n",
        "files.download('kmeans_labels.csv')"
      ],
      "metadata": {
        "colab": {
          "base_uri": "https://localhost:8080/",
          "height": 17
        },
        "id": "_--yFWq1LrxW",
        "outputId": "3eb7c9c9-c065-46d2-c395-961c41850211"
      },
      "execution_count": 56,
      "outputs": [
        {
          "output_type": "display_data",
          "data": {
            "application/javascript": [
              "\n",
              "    async function download(id, filename, size) {\n",
              "      if (!google.colab.kernel.accessAllowed) {\n",
              "        return;\n",
              "      }\n",
              "      const div = document.createElement('div');\n",
              "      const label = document.createElement('label');\n",
              "      label.textContent = `Downloading \"${filename}\": `;\n",
              "      div.appendChild(label);\n",
              "      const progress = document.createElement('progress');\n",
              "      progress.max = size;\n",
              "      div.appendChild(progress);\n",
              "      document.body.appendChild(div);\n",
              "\n",
              "      const buffers = [];\n",
              "      let downloaded = 0;\n",
              "\n",
              "      const channel = await google.colab.kernel.comms.open(id);\n",
              "      // Send a message to notify the kernel that we're ready.\n",
              "      channel.send({})\n",
              "\n",
              "      for await (const message of channel.messages) {\n",
              "        // Send a message to notify the kernel that we're ready.\n",
              "        channel.send({})\n",
              "        if (message.buffers) {\n",
              "          for (const buffer of message.buffers) {\n",
              "            buffers.push(buffer);\n",
              "            downloaded += buffer.byteLength;\n",
              "            progress.value = downloaded;\n",
              "          }\n",
              "        }\n",
              "      }\n",
              "      const blob = new Blob(buffers, {type: 'application/binary'});\n",
              "      const a = document.createElement('a');\n",
              "      a.href = window.URL.createObjectURL(blob);\n",
              "      a.download = filename;\n",
              "      div.appendChild(a);\n",
              "      a.click();\n",
              "      div.remove();\n",
              "    }\n",
              "  "
            ],
            "text/plain": [
              "<IPython.core.display.Javascript object>"
            ]
          },
          "metadata": {}
        },
        {
          "output_type": "display_data",
          "data": {
            "application/javascript": [
              "download(\"download_a814b5d8-b211-4076-b338-61a18d1ba4e3\", \"kmeans_labels.csv\", 268908)"
            ],
            "text/plain": [
              "<IPython.core.display.Javascript object>"
            ]
          },
          "metadata": {}
        }
      ]
    },
    {
      "cell_type": "markdown",
      "source": [
        "## Conclusion\n",
        "\n",
        "Based on the performance of all three models and the relative compute time required, I would propose the random forest model as most successful. It had more in the competition submission vs the PCA random forest, but with fewer steps and reduced computing time."
      ],
      "metadata": {
        "id": "3U0ndFnksg8o"
      }
    }
  ]
}